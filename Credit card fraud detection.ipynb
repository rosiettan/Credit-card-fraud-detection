{
  "cells": [
    {
      "cell_type": "markdown",
      "metadata": {
        "id": "bnckdGaVevNV"
      },
      "source": [
        "# 1. Import Dependencies"
      ]
    },
    {
      "cell_type": "code",
      "execution_count": null,
      "metadata": {
        "id": "iMFpfA8Wd4fV"
      },
      "outputs": [],
      "source": [
        "import numpy as py\n",
        "import pandas as pd\n",
        "from sklearn.model_selection import train_test_split\n",
        "from sklearn.linear_model import LogisticRegression\n",
        "from sklearn.metrics import accuracy_score"
      ]
    },
    {
      "cell_type": "markdown",
      "metadata": {
        "id": "fyewg92Vf9RW"
      },
      "source": [
        "# 2. Get the data"
      ]
    },
    {
      "cell_type": "code",
      "execution_count": null,
      "metadata": {
        "colab": {
          "base_uri": "https://localhost:8080/"
        },
        "id": "l47yrFk3d9VE",
        "outputId": "0f41a9d9-5d54-4fac-9ad8-684616f1206f"
      },
      "outputs": [
        {
          "name": "stderr",
          "output_type": "stream",
          "text": [
            "C:\\Users\\Admin\\AppData\\Local\\Temp\\ipykernel_3896\\2052467156.py:2: FutureWarning: The error_bad_lines argument has been deprecated and will be removed in a future version. Use on_bad_lines in the future.\n",
            "\n",
            "\n",
            "  credit_card_data = pd.read_csv('creditcard.csv', error_bad_lines=False)\n",
            "b'Skipping line 5966: expected 31 fields, saw 51\\nSkipping line 11956: expected 31 fields, saw 42\\nSkipping line 15937: expected 31 fields, saw 40\\nSkipping line 19911: expected 31 fields, saw 33\\nSkipping line 21905: expected 31 fields, saw 46\\nSkipping line 25880: expected 31 fields, saw 49\\n'\n",
            "b'Skipping line 37764: expected 31 fields, saw 39\\nSkipping line 41725: expected 31 fields, saw 59\\nSkipping line 45685: expected 31 fields, saw 47\\nSkipping line 51626: expected 31 fields, saw 51\\nSkipping line 55589: expected 31 fields, saw 36\\nSkipping line 59549: expected 31 fields, saw 32\\nSkipping line 63510: expected 31 fields, saw 37\\nSkipping line 65490: expected 31 fields, saw 41\\n'\n",
            "b'Skipping line 69453: expected 31 fields, saw 34\\nSkipping line 71434: expected 31 fields, saw 52\\nSkipping line 77376: expected 31 fields, saw 38\\nSkipping line 79358: expected 31 fields, saw 35\\nSkipping line 83321: expected 31 fields, saw 32\\nSkipping line 85302: expected 31 fields, saw 54\\nSkipping line 91245: expected 31 fields, saw 48\\n'\n",
            "b'Skipping line 99169: expected 31 fields, saw 32\\nSkipping line 101150: expected 31 fields, saw 37\\nSkipping line 103130: expected 31 fields, saw 36\\nSkipping line 105110: expected 31 fields, saw 38\\nSkipping line 107090: expected 31 fields, saw 37\\nSkipping line 115012: expected 31 fields, saw 37\\nSkipping line 116992: expected 31 fields, saw 36\\nSkipping line 118973: expected 31 fields, saw 36\\nSkipping line 120953: expected 31 fields, saw 39\\nSkipping line 126896: expected 31 fields, saw 48\\nSkipping line 130858: expected 31 fields, saw 46\\n'\n",
            "b'Skipping line 134819: expected 31 fields, saw 37\\nSkipping line 140762: expected 31 fields, saw 44\\nSkipping line 144723: expected 31 fields, saw 46\\nSkipping line 148684: expected 31 fields, saw 52\\nSkipping line 152645: expected 31 fields, saw 35\\nSkipping line 154625: expected 31 fields, saw 44\\nSkipping line 160567: expected 31 fields, saw 32\\nSkipping line 162547: expected 31 fields, saw 34\\n'\n",
            "b'Skipping line 164527: expected 31 fields, saw 32\\nSkipping line 166507: expected 31 fields, saw 36\\nSkipping line 168487: expected 31 fields, saw 43\\nSkipping line 174430: expected 31 fields, saw 39\\nSkipping line 178390: expected 31 fields, saw 41\\nSkipping line 182349: expected 31 fields, saw 37\\nSkipping line 186314: expected 31 fields, saw 39\\nSkipping line 190278: expected 31 fields, saw 43\\nSkipping line 194237: expected 31 fields, saw 36\\n'\n",
            "b'Skipping line 198195: expected 31 fields, saw 38\\nSkipping line 204141: expected 31 fields, saw 35\\nSkipping line 212057: expected 31 fields, saw 35\\nSkipping line 216015: expected 31 fields, saw 40\\nSkipping line 219974: expected 31 fields, saw 48\\nSkipping line 223932: expected 31 fields, saw 39\\nSkipping line 225912: expected 31 fields, saw 32\\n'\n",
            "b'Skipping line 235810: expected 31 fields, saw 43\\nSkipping line 239771: expected 31 fields, saw 47\\nSkipping line 245711: expected 31 fields, saw 46\\n'\n",
            "C:\\Users\\Admin\\AppData\\Local\\Temp\\ipykernel_3896\\2052467156.py:2: DtypeWarning: Columns (2,10,13,15,21,23) have mixed types. Specify dtype option on import or set low_memory=False.\n",
            "  credit_card_data = pd.read_csv('creditcard.csv', error_bad_lines=False)\n"
          ]
        },
        {
          "name": "stdout",
          "output_type": "stream",
          "text": [
            "   Time        V1                   V2        V3        V4        V5  \\\n",
            "0   0.0 -1.359807  -0.0727811733098497  2.536347  1.378155 -0.338321   \n",
            "1   0.0  1.191857     0.26615071205963  0.166480  0.448154  0.060018   \n",
            "2   1.0 -1.358354    -1.34016307473609  1.773209  0.379780 -0.503198   \n",
            "3   1.0 -0.966272   -0.185226008082898  1.792993 -0.863291 -0.010309   \n",
            "4   2.0 -1.158233    0.877736754848451  1.548718  0.403034 -0.407193   \n",
            "\n",
            "         V6        V7        V8        V9  ...                   V21  \\\n",
            "0  0.462388  0.239599  0.098698  0.363787  ...    -0.018306777944153   \n",
            "1 -0.082361 -0.078803  0.085102 -0.255425  ...    -0.225775248033138   \n",
            "2  1.800499  0.791461  0.247676 -1.514654  ...     0.247998153469754   \n",
            "3  1.247203  0.237609  0.377436 -1.387024  ...    -0.108300452035545   \n",
            "4  0.095921  0.592941 -0.270533  0.817739  ...  -0.00943069713232919   \n",
            "\n",
            "        V22       V23       V24       V25       V26       V27       V28  \\\n",
            "0  0.277838 -0.110474  0.066928  0.128539 -0.189115  0.133558 -0.021053   \n",
            "1 -0.638672  0.101288 -0.339846  0.167170  0.125895 -0.008983  0.014724   \n",
            "2  0.771679  0.909412 -0.689281 -0.327642 -0.139097 -0.055353 -0.059752   \n",
            "3  0.005274 -0.190321 -1.175575  0.647376 -0.221929  0.062723  0.061458   \n",
            "4  0.798278 -0.137458  0.141267 -0.206010  0.502292  0.219422  0.215153   \n",
            "\n",
            "   Amount  Class  \n",
            "0  149.62    0.0  \n",
            "1    2.69    0.0  \n",
            "2  378.66    0.0  \n",
            "3  123.50    0.0  \n",
            "4   69.99    0.0  \n",
            "\n",
            "[5 rows x 31 columns]\n"
          ]
        }
      ],
      "source": [
        "# Read the CSV file, specifying the delimiter and handling missing data\n",
        "credit_card_data = pd.read_csv('creditcard.csv', error_bad_lines=False)\n",
        "\n",
        "# Print the first 5 rows of the DataFrame\n",
        "print(credit_card_data.head())\n"
      ]
    },
    {
      "cell_type": "code",
      "execution_count": null,
      "metadata": {
        "colab": {
          "base_uri": "https://localhost:8080/"
        },
        "id": "ubPsEg47gS17",
        "outputId": "acd232ec-1384-45f0-ede2-fdb2c4b17665"
      },
      "outputs": [
        {
          "name": "stdout",
          "output_type": "stream",
          "text": [
            "           Time        V1        V2        V3        V4        V5        V6  \\\n",
            "249608  80109.0  1.310383  0.148796 -0.106156  0.245652  0.376795  0.276660   \n",
            "249609  80109.0  1.187695  0.161777 -0.102921  0.367072  0.000082 -0.725995   \n",
            "249610  80109.0  1.210400 -0.061808  0.934410  1.149472 -0.586856  0.269742   \n",
            "249611  80110.0 -0.357977 -0.288527  1.506609 -2.484692 -1.031518 -0.910416   \n",
            "249612  80110.0 -1.824050   0.75046  1.120322  1.158644 -0.184192 -0.196253   \n",
            "\n",
            "              V7        V8        V9  ...       V21       V22       V23  \\\n",
            "249608 -0.048826  0.027499  0.151769  ... -0.321307 -0.897167 -0.008168   \n",
            "249609  0.370336 -0.169480 -0.441230  ... -0.329042 -1.104087  0.058738   \n",
            "249610 -0.582677  0.148328  0.963741  ... -0.118127 -0.134792 -0.107835   \n",
            "249611 -0.259715  0.024064 -2.413570  ... -0.077703  0.151033  -0.00462   \n",
            "249612 -0.008336  0.202622 -0.182532  ... -0.156936 -0.392619 -0.116801   \n",
            "\n",
            "             V24       V25       V26       V27       V28  Amount  Class  \n",
            "249608 -1.336089  0.327048  0.211107 -0.015559  0.001677    4.49    0.0  \n",
            "249609  0.007578  0.288024  0.136426 -0.075150  0.003084   45.95    0.0  \n",
            "249610 -0.459923  0.522964 -0.356392  0.070720  0.029614    9.99    0.0  \n",
            "249611  0.481458 -0.370021 -0.439370  0.380669  0.203272   15.00    0.0  \n",
            "249612 -0.058439  0.238796       NaN       NaN       NaN     NaN    NaN  \n",
            "\n",
            "[5 rows x 31 columns]\n"
          ]
        }
      ],
      "source": [
        "# Print the last 5 rows of the DataFrame\n",
        "print(credit_card_data.tail())"
      ]
    },
    {
      "cell_type": "code",
      "execution_count": null,
      "metadata": {
        "colab": {
          "base_uri": "https://localhost:8080/"
        },
        "id": "XkNbmoA8jWNM",
        "outputId": "2ea7590e-2203-46bd-e60a-d8c542584a5a"
      },
      "outputs": [
        {
          "name": "stdout",
          "output_type": "stream",
          "text": [
            "<class 'pandas.core.frame.DataFrame'>\n",
            "RangeIndex: 249613 entries, 0 to 249612\n",
            "Data columns (total 31 columns):\n",
            " #   Column  Non-Null Count   Dtype  \n",
            "---  ------  --------------   -----  \n",
            " 0   Time    249613 non-null  float64\n",
            " 1   V1      249613 non-null  float64\n",
            " 2   V2      249613 non-null  object \n",
            " 3   V3      249613 non-null  float64\n",
            " 4   V4      249613 non-null  float64\n",
            " 5   V5      249613 non-null  float64\n",
            " 6   V6      249613 non-null  float64\n",
            " 7   V7      249613 non-null  float64\n",
            " 8   V8      249612 non-null  float64\n",
            " 9   V9      249611 non-null  float64\n",
            " 10  V10     249609 non-null  object \n",
            " 11  V11     249606 non-null  float64\n",
            " 12  V12     249606 non-null  float64\n",
            " 13  V13     249606 non-null  object \n",
            " 14  V14     249604 non-null  float64\n",
            " 15  V15     249599 non-null  object \n",
            " 16  V16     249597 non-null  float64\n",
            " 17  V17     249592 non-null  float64\n",
            " 18  V18     249590 non-null  float64\n",
            " 19  V19     249590 non-null  float64\n",
            " 20  V20     249588 non-null  float64\n",
            " 21  V21     249587 non-null  object \n",
            " 22  V22     249585 non-null  float64\n",
            " 23  V23     249581 non-null  object \n",
            " 24  V24     249579 non-null  float64\n",
            " 25  V25     249575 non-null  float64\n",
            " 26  V26     249569 non-null  float64\n",
            " 27  V27     249565 non-null  float64\n",
            " 28  V28     249561 non-null  float64\n",
            " 29  Amount  249556 non-null  float64\n",
            " 30  Class   249553 non-null  float64\n",
            "dtypes: float64(25), object(6)\n",
            "memory usage: 59.0+ MB\n"
          ]
        }
      ],
      "source": [
        "# dataframe information\n",
        "credit_card_data.info()"
      ]
    },
    {
      "cell_type": "code",
      "execution_count": null,
      "metadata": {
        "colab": {
          "base_uri": "https://localhost:8080/"
        },
        "id": "VkHDY6VnjbrO",
        "outputId": "3d799d7a-00c5-402a-9f41-a09fc72b7c05"
      },
      "outputs": [
        {
          "data": {
            "text/plain": [
              "Time       0\n",
              "V1         0\n",
              "V2         0\n",
              "V3         0\n",
              "V4         0\n",
              "V5         0\n",
              "V6         0\n",
              "V7         0\n",
              "V8         1\n",
              "V9         2\n",
              "V10        4\n",
              "V11        7\n",
              "V12        7\n",
              "V13        7\n",
              "V14        9\n",
              "V15       14\n",
              "V16       16\n",
              "V17       21\n",
              "V18       23\n",
              "V19       23\n",
              "V20       25\n",
              "V21       26\n",
              "V22       28\n",
              "V23       32\n",
              "V24       34\n",
              "V25       38\n",
              "V26       44\n",
              "V27       48\n",
              "V28       52\n",
              "Amount    57\n",
              "Class     60\n",
              "dtype: int64"
            ]
          },
          "execution_count": 5,
          "metadata": {},
          "output_type": "execute_result"
        }
      ],
      "source": [
        "# checking the number of missing values in each column\n",
        "credit_card_data.isnull().sum()"
      ]
    },
    {
      "cell_type": "markdown",
      "metadata": {
        "id": "WXLoHN2-oGmh"
      },
      "source": [
        "# 3. Distribution of legit transactions & fraudulent transactions"
      ]
    },
    {
      "cell_type": "code",
      "execution_count": null,
      "metadata": {
        "colab": {
          "base_uri": "https://localhost:8080/",
          "height": 487
        },
        "id": "jI22UXs-kp7g",
        "outputId": "9bd72f4e-bb8e-4984-f260-9371476fad2d"
      },
      "outputs": [
        {
          "data": {
            "image/png": "[encoded data removed]",
            "text/plain": [
              "<Figure size 432x288 with 1 Axes>"
            ]
          },
          "metadata": {
            "needs_background": "light"
          },
          "output_type": "display_data"
        }
      ],
      "source": [
        "import matplotlib.pyplot as plt\n",
        "\n",
        "class_counts = credit_card_data[\"Class\"].value_counts()\n",
        "\n",
        "colors = [\"#1f77b4\", \"#ff7f0e\"]\n",
        "plt.bar(class_counts.index, class_counts.values, color=colors)\n",
        "\n",
        "plt.xlabel(\"Transaction Class\", fontweight=\"bold\", fontsize=12)\n",
        "plt.ylabel(\"Count\", fontweight=\"bold\", fontsize=12)\n",
        "plt.title(\"Distribution of Transaction Classes\", fontweight=\"bold\", fontsize=14)\n",
        "\n",
        "plt.xticks(class_counts.index, [\"Normal\", \"Fraudulent\"], rotation=45, ha=\"right\", fontsize=10)\n",
        "\n",
        "plt.grid(axis=\"y\", linestyle=\"--\", alpha=0.5)\n",
        "\n",
        "for i, count in enumerate(class_counts.values):\n",
        "    plt.text(i, count + 1000, str(count), ha=\"center\", va=\"bottom\", fontweight=\"bold\", fontsize=10)\n",
        "\n",
        "plt.tight_layout()\n",
        "plt.show()"
      ]
    },
    {
      "cell_type": "code",
      "execution_count": null,
      "metadata": {
        "colab": {
          "base_uri": "https://localhost:8080/",
          "height": 520
        },
        "id": "ERjePqvcks2l",
        "outputId": "9074d823-cc21-4e9e-ea0a-d2fafc6f9f3e"
      },
      "outputs": [
        {
          "data": {
            "image/png": "[encoded data removed]",
            "text/plain": [
              "<Figure size 432x288 with 1 Axes>"
            ]
          },
          "metadata": {
            "needs_background": "light"
          },
          "output_type": "display_data"
        }
      ],
      "source": [
        "import matplotlib.pyplot as plt\n",
        "\n",
        "legit = credit_card_data[credit_card_data.Class == 0]\n",
        "fraud = credit_card_data[credit_card_data.Class == 1]\n",
        "\n",
        "legit_count = len(legit)\n",
        "fraud_count = len(fraud)\n",
        "\n",
        "bar_positions = [0, 1]\n",
        "bar_width = 0.35\n",
        "\n",
        "fig, ax1 = plt.subplots()\n",
        "\n",
        "ax1.bar(bar_positions[0], legit_count, bar_width, color='green', label='Legitimate')\n",
        "ax1.bar(bar_positions[1], fraud_count, bar_width, color='red', label='Fraudulent')\n",
        "\n",
        "ax1.set_xlabel('Transaction Class')\n",
        "ax1.set_ylabel('Count')\n",
        "ax1.set_title('Distribution of Legitimate and Fraudulent Transactions')\n",
        "\n",
        "ax1.set_xticks(bar_positions)\n",
        "ax1.set_xticklabels(['Legitimate', 'Fraudulent'])\n",
        "\n",
        "ax1.legend()\n",
        "\n",
        "ax1.text(bar_positions[0], legit_count, str(legit_count), ha='center', va='bottom')\n",
        "ax1.text(bar_positions[1], fraud_count, str(fraud_count), ha='center', va='bottom')\n",
        "\n",
        "ax1.grid(axis='y', linestyle='--', alpha=0.5)\n",
        "\n",
        "plt.xticks(rotation=45)\n",
        "\n",
        "plt.annotate('Fraudulent', xy=(0.5, fraud_count), xytext=(0.7, fraud_count + 500),\n",
        "arrowprops=dict(facecolor='black', arrowstyle='->'))\n",
        "\n",
        "plt.show()\n",
        "\n"
      ]
    },
    {
      "cell_type": "code",
      "execution_count": null,
      "metadata": {
        "colab": {
          "base_uri": "https://localhost:8080/"
        },
        "id": "CGpGqYJ2pRxD",
        "outputId": "ad7f26db-065e-4c0a-dafd-dc49fa57e32f"
      },
      "outputs": [
        {
          "name": "stdout",
          "output_type": "stream",
          "text": [
            "(249057, 31)\n",
            "(496, 31)\n"
          ]
        }
      ],
      "source": [
        "print(legit.shape)\n",
        "print(fraud.shape)"
      ]
    },
    {
      "cell_type": "code",
      "execution_count": null,
      "metadata": {
        "colab": {
          "base_uri": "https://localhost:8080/"
        },
        "id": "D10k4fuUqLCx",
        "outputId": "859e2ec6-3331-41c7-9e89-4b6912810737"
      },
      "outputs": [
        {
          "data": {
            "text/plain": [
              "count    249057.000000\n",
              "mean         93.662585\n",
              "std         253.310482\n",
              "min           0.000000\n",
              "25%           6.530000\n",
              "50%          24.990000\n",
              "75%          84.100000\n",
              "max       19656.530000\n",
              "Name: Amount, dtype: float64"
            ]
          },
          "execution_count": 11,
          "metadata": {},
          "output_type": "execute_result"
        }
      ],
      "source": [
        "# statistical measures of the data\n",
        "legit.Amount.describe()"
      ]
    },
    {
      "cell_type": "code",
      "execution_count": null,
      "metadata": {
        "colab": {
          "base_uri": "https://localhost:8080/"
        },
        "id": "onlBKdEAqNA5",
        "outputId": "4c122b48-b3af-462e-e552-f2331de6be7c"
      },
      "outputs": [
        {
          "data": {
            "text/plain": [
              "count     496.000000\n",
              "mean      117.101593\n",
              "std       238.765544\n",
              "min         0.000000\n",
              "25%         1.000000\n",
              "50%        15.470000\n",
              "75%       101.500000\n",
              "max      1809.680000\n",
              "Name: Amount, dtype: float64"
            ]
          },
          "execution_count": 12,
          "metadata": {},
          "output_type": "execute_result"
        }
      ],
      "source": [
        "fraud.Amount.describe()"
      ]
    },
    {
      "cell_type": "markdown",
      "metadata": {
        "id": "N4Dk8OZ9quwJ"
      },
      "source": [
        "# 4. Compare the values for both transactions\n"
      ]
    },
    {
      "cell_type": "code",
      "execution_count": null,
      "metadata": {
        "colab": {
          "base_uri": "https://localhost:8080/",
          "height": 527
        },
        "id": "6a36ODAfqoE6",
        "outputId": "aebd0cea-891e-4670-8a69-b90dbdcec0a2"
      },
      "outputs": [
        {
          "data": {
            "image/png": "[encoded data removed]",
            "text/plain": [
              "<Figure size 432x288 with 1 Axes>"
            ]
          },
          "metadata": {
            "needs_background": "light"
          },
          "output_type": "display_data"
        }
      ],
      "source": [
        "import matplotlib.pyplot as plt\n",
        "\n",
        "class_means = credit_card_data.groupby('Class').mean()\n",
        "\n",
        "plt.bar(class_means.index, class_means['Amount'])\n",
        "\n",
        "plt.xlabel(\"Transaction Class\")\n",
        "plt.ylabel(\"Average Amount\")\n",
        "plt.title(\"Average Transaction Amount by Class\")\n",
        "\n",
        "plt.xticks(class_means.index, [\"Normal\", \"Fraudulent\"])\n",
        "\n",
        "plt.show()"
      ]
    },
    {
      "cell_type": "markdown",
      "metadata": {
        "id": "pOrN2w2groX_"
      },
      "source": [
        "# 5. Under-Sampling"
      ]
    },
    {
      "cell_type": "code",
      "execution_count": null,
      "metadata": {
        "id": "l2r0sVJFqzB9"
      },
      "outputs": [],
      "source": [
        "# Build a sample dataset containing similar distribution\n",
        "# of normal transactions and fraudulent transactions\n",
        "# number of Fraudulent Transaction - 731\n",
        "legit_sample = legit.sample(n=731)"
      ]
    },
    {
      "cell_type": "code",
      "execution_count": null,
      "metadata": {
        "id": "1j8faS-urmFh"
      },
      "outputs": [],
      "source": [
        "# Concatenating two DataFrames\n",
        "new_dataset = pd.concat([legit_sample, fraud], axis=0)"
      ]
    },
    {
      "cell_type": "code",
      "execution_count": null,
      "metadata": {
        "colab": {
          "base_uri": "https://localhost:8080/",
          "height": 299
        },
        "id": "uFXE6vyxssxp",
        "outputId": "2554bd0d-167e-4a8f-e7fe-55d18d1fdcb4"
      },
      "outputs": [
        {
          "data": {
            "text/html": [
              "<div>\n",
              "<style scoped>\n",
              "    .dataframe tbody tr th:only-of-type {\n",
              "        vertical-align: middle;\n",
              "    }\n",
              "\n",
              "    .dataframe tbody tr th {\n",
              "        vertical-align: top;\n",
              "    }\n",
              "\n",
              "    .dataframe thead th {\n",
              "        text-align: right;\n",
              "    }\n",
              "</style>\n",
              "<table border=\"1\" class=\"dataframe\">\n",
              "  <thead>\n",
              "    <tr style=\"text-align: right;\">\n",
              "      <th></th>\n",
              "      <th>Time</th>\n",
              "      <th>V1</th>\n",
              "      <th>V2</th>\n",
              "      <th>V3</th>\n",
              "      <th>V4</th>\n",
              "      <th>V5</th>\n",
              "      <th>V6</th>\n",
              "      <th>V7</th>\n",
              "      <th>V8</th>\n",
              "      <th>V9</th>\n",
              "      <th>...</th>\n",
              "      <th>V21</th>\n",
              "      <th>V22</th>\n",
              "      <th>V23</th>\n",
              "      <th>V24</th>\n",
              "      <th>V25</th>\n",
              "      <th>V26</th>\n",
              "      <th>V27</th>\n",
              "      <th>V28</th>\n",
              "      <th>Amount</th>\n",
              "      <th>Class</th>\n",
              "    </tr>\n",
              "  </thead>\n",
              "  <tbody>\n",
              "    <tr>\n",
              "      <th>99449</th>\n",
              "      <td>44264.0</td>\n",
              "      <td>-0.252773</td>\n",
              "      <td>0.486363</td>\n",
              "      <td>1.309434</td>\n",
              "      <td>-1.053774</td>\n",
              "      <td>-0.436655</td>\n",
              "      <td>-0.117178</td>\n",
              "      <td>-0.649498</td>\n",
              "      <td>-1.404399</td>\n",
              "      <td>0.066832</td>\n",
              "      <td>...</td>\n",
              "      <td>1.478127</td>\n",
              "      <td>-0.795314</td>\n",
              "      <td>-0.060646</td>\n",
              "      <td>0.234810</td>\n",
              "      <td>0.460343</td>\n",
              "      <td>0.845045</td>\n",
              "      <td>0.094885</td>\n",
              "      <td>0.188411</td>\n",
              "      <td>3.84</td>\n",
              "      <td>0.0</td>\n",
              "    </tr>\n",
              "    <tr>\n",
              "      <th>143398</th>\n",
              "      <td>54560.0</td>\n",
              "      <td>-0.527136</td>\n",
              "      <td>0.948084</td>\n",
              "      <td>-0.695599</td>\n",
              "      <td>-1.126850</td>\n",
              "      <td>2.330580</td>\n",
              "      <td>3.222901</td>\n",
              "      <td>-0.107501</td>\n",
              "      <td>1.237228</td>\n",
              "      <td>-0.842058</td>\n",
              "      <td>...</td>\n",
              "      <td>0.11267</td>\n",
              "      <td>0.064719</td>\n",
              "      <td>-0.133956</td>\n",
              "      <td>1.037885</td>\n",
              "      <td>-0.189111</td>\n",
              "      <td>0.301833</td>\n",
              "      <td>-0.017194</td>\n",
              "      <td>0.081879</td>\n",
              "      <td>1.50</td>\n",
              "      <td>0.0</td>\n",
              "    </tr>\n",
              "    <tr>\n",
              "      <th>194176</th>\n",
              "      <td>69345.0</td>\n",
              "      <td>1.174801</td>\n",
              "      <td>0.007121</td>\n",
              "      <td>0.101070</td>\n",
              "      <td>1.131680</td>\n",
              "      <td>0.075225</td>\n",
              "      <td>0.491208</td>\n",
              "      <td>-0.185995</td>\n",
              "      <td>0.287774</td>\n",
              "      <td>0.374281</td>\n",
              "      <td>...</td>\n",
              "      <td>-0.119659</td>\n",
              "      <td>-0.228921</td>\n",
              "      <td>-0.133357</td>\n",
              "      <td>-0.701332</td>\n",
              "      <td>0.660040</td>\n",
              "      <td>-0.280724</td>\n",
              "      <td>0.022974</td>\n",
              "      <td>-0.005840</td>\n",
              "      <td>5.34</td>\n",
              "      <td>0.0</td>\n",
              "    </tr>\n",
              "    <tr>\n",
              "      <th>55411</th>\n",
              "      <td>38177.0</td>\n",
              "      <td>0.735718</td>\n",
              "      <td>-0.628512</td>\n",
              "      <td>0.550752</td>\n",
              "      <td>1.336038</td>\n",
              "      <td>-0.963262</td>\n",
              "      <td>-0.587294</td>\n",
              "      <td>0.050514</td>\n",
              "      <td>-0.109504</td>\n",
              "      <td>0.379946</td>\n",
              "      <td>...</td>\n",
              "      <td>0.273236</td>\n",
              "      <td>0.261723</td>\n",
              "      <td>-0.29042</td>\n",
              "      <td>0.398492</td>\n",
              "      <td>0.424651</td>\n",
              "      <td>-0.320804</td>\n",
              "      <td>-0.005972</td>\n",
              "      <td>0.072641</td>\n",
              "      <td>249.27</td>\n",
              "      <td>0.0</td>\n",
              "    </tr>\n",
              "    <tr>\n",
              "      <th>53337</th>\n",
              "      <td>34598.0</td>\n",
              "      <td>-2.820219</td>\n",
              "      <td>2.458132</td>\n",
              "      <td>0.614851</td>\n",
              "      <td>-1.482664</td>\n",
              "      <td>-0.431115</td>\n",
              "      <td>1.078077</td>\n",
              "      <td>-1.607519</td>\n",
              "      <td>-6.991697</td>\n",
              "      <td>0.289095</td>\n",
              "      <td>...</td>\n",
              "      <td>6.797101</td>\n",
              "      <td>-2.538247</td>\n",
              "      <td>0.897894</td>\n",
              "      <td>0.001910</td>\n",
              "      <td>-0.450488</td>\n",
              "      <td>0.732639</td>\n",
              "      <td>0.400041</td>\n",
              "      <td>0.160542</td>\n",
              "      <td>55.93</td>\n",
              "      <td>0.0</td>\n",
              "    </tr>\n",
              "  </tbody>\n",
              "</table>\n",
              "<p>5 rows × 31 columns</p>\n",
              "</div>"
            ],
            "text/plain": [
              "           Time        V1        V2        V3        V4        V5        V6  \\\n",
              "99449   44264.0 -0.252773  0.486363  1.309434 -1.053774 -0.436655 -0.117178   \n",
              "143398  54560.0 -0.527136  0.948084 -0.695599 -1.126850  2.330580  3.222901   \n",
              "194176  69345.0  1.174801  0.007121  0.101070  1.131680  0.075225  0.491208   \n",
              "55411   38177.0  0.735718 -0.628512  0.550752  1.336038 -0.963262 -0.587294   \n",
              "53337   34598.0 -2.820219  2.458132  0.614851 -1.482664 -0.431115  1.078077   \n",
              "\n",
              "              V7        V8        V9  ...       V21       V22       V23  \\\n",
              "99449  -0.649498 -1.404399  0.066832  ...  1.478127 -0.795314 -0.060646   \n",
              "143398 -0.107501  1.237228 -0.842058  ...   0.11267  0.064719 -0.133956   \n",
              "194176 -0.185995  0.287774  0.374281  ... -0.119659 -0.228921 -0.133357   \n",
              "55411   0.050514 -0.109504  0.379946  ...  0.273236  0.261723  -0.29042   \n",
              "53337  -1.607519 -6.991697  0.289095  ...  6.797101 -2.538247  0.897894   \n",
              "\n",
              "             V24       V25       V26       V27       V28  Amount  Class  \n",
              "99449   0.234810  0.460343  0.845045  0.094885  0.188411    3.84    0.0  \n",
              "143398  1.037885 -0.189111  0.301833 -0.017194  0.081879    1.50    0.0  \n",
              "194176 -0.701332  0.660040 -0.280724  0.022974 -0.005840    5.34    0.0  \n",
              "55411   0.398492  0.424651 -0.320804 -0.005972  0.072641  249.27    0.0  \n",
              "53337   0.001910 -0.450488  0.732639  0.400041  0.160542   55.93    0.0  \n",
              "\n",
              "[5 rows x 31 columns]"
            ]
          },
          "execution_count": 16,
          "metadata": {},
          "output_type": "execute_result"
        }
      ],
      "source": [
        "new_dataset.head()"
      ]
    },
    {
      "cell_type": "code",
      "execution_count": null,
      "metadata": {
        "colab": {
          "base_uri": "https://localhost:8080/",
          "height": 299
        },
        "id": "kk3_Wh2fsu6N",
        "outputId": "893243e2-4924-4910-86ed-72bd07bf45bc"
      },
      "outputs": [
        {
          "data": {
            "text/html": [
              "<div>\n",
              "<style scoped>\n",
              "    .dataframe tbody tr th:only-of-type {\n",
              "        vertical-align: middle;\n",
              "    }\n",
              "\n",
              "    .dataframe tbody tr th {\n",
              "        vertical-align: top;\n",
              "    }\n",
              "\n",
              "    .dataframe thead th {\n",
              "        text-align: right;\n",
              "    }\n",
              "</style>\n",
              "<table border=\"1\" class=\"dataframe\">\n",
              "  <thead>\n",
              "    <tr style=\"text-align: right;\">\n",
              "      <th></th>\n",
              "      <th>Time</th>\n",
              "      <th>V1</th>\n",
              "      <th>V2</th>\n",
              "      <th>V3</th>\n",
              "      <th>V4</th>\n",
              "      <th>V5</th>\n",
              "      <th>V6</th>\n",
              "      <th>V7</th>\n",
              "      <th>V8</th>\n",
              "      <th>V9</th>\n",
              "      <th>...</th>\n",
              "      <th>V21</th>\n",
              "      <th>V22</th>\n",
              "      <th>V23</th>\n",
              "      <th>V24</th>\n",
              "      <th>V25</th>\n",
              "      <th>V26</th>\n",
              "      <th>V27</th>\n",
              "      <th>V28</th>\n",
              "      <th>Amount</th>\n",
              "      <th>Class</th>\n",
              "    </tr>\n",
              "  </thead>\n",
              "  <tbody>\n",
              "    <tr>\n",
              "      <th>246806</th>\n",
              "      <td>77154.0</td>\n",
              "      <td>-0.715414</td>\n",
              "      <td>0.60859</td>\n",
              "      <td>1.155501</td>\n",
              "      <td>-0.267565</td>\n",
              "      <td>-0.563748</td>\n",
              "      <td>-0.618898</td>\n",
              "      <td>0.698308</td>\n",
              "      <td>0.069837</td>\n",
              "      <td>-0.133341</td>\n",
              "      <td>...</td>\n",
              "      <td>0.130749</td>\n",
              "      <td>0.239389</td>\n",
              "      <td>-0.090227</td>\n",
              "      <td>0.411572</td>\n",
              "      <td>-0.216126</td>\n",
              "      <td>0.353896</td>\n",
              "      <td>-0.062361</td>\n",
              "      <td>0.008433</td>\n",
              "      <td>129.0</td>\n",
              "      <td>1.0</td>\n",
              "    </tr>\n",
              "    <tr>\n",
              "      <th>246857</th>\n",
              "      <td>77171.0</td>\n",
              "      <td>1.118560</td>\n",
              "      <td>1.291858</td>\n",
              "      <td>-1.298805</td>\n",
              "      <td>2.135772</td>\n",
              "      <td>0.772204</td>\n",
              "      <td>-1.147291</td>\n",
              "      <td>0.390578</td>\n",
              "      <td>-0.107072</td>\n",
              "      <td>-0.038339</td>\n",
              "      <td>...</td>\n",
              "      <td>-0.346374</td>\n",
              "      <td>-0.663588</td>\n",
              "      <td>-0.102326</td>\n",
              "      <td>0.017911</td>\n",
              "      <td>0.650302</td>\n",
              "      <td>-0.332366</td>\n",
              "      <td>0.105949</td>\n",
              "      <td>0.128124</td>\n",
              "      <td>1.0</td>\n",
              "      <td>1.0</td>\n",
              "    </tr>\n",
              "    <tr>\n",
              "      <th>246885</th>\n",
              "      <td>77182.0</td>\n",
              "      <td>-1.410852</td>\n",
              "      <td>2.268271</td>\n",
              "      <td>-2.297554</td>\n",
              "      <td>1.871331</td>\n",
              "      <td>0.248957</td>\n",
              "      <td>-1.208799</td>\n",
              "      <td>-1.358648</td>\n",
              "      <td>1.102916</td>\n",
              "      <td>-1.317364</td>\n",
              "      <td>...</td>\n",
              "      <td>0.155381</td>\n",
              "      <td>-0.614880</td>\n",
              "      <td>-0.196126</td>\n",
              "      <td>-0.464376</td>\n",
              "      <td>0.118473</td>\n",
              "      <td>-0.484537</td>\n",
              "      <td>0.373596</td>\n",
              "      <td>0.187657</td>\n",
              "      <td>1.0</td>\n",
              "      <td>1.0</td>\n",
              "    </tr>\n",
              "    <tr>\n",
              "      <th>246946</th>\n",
              "      <td>77202.0</td>\n",
              "      <td>-0.356326</td>\n",
              "      <td>1.435305</td>\n",
              "      <td>-0.813564</td>\n",
              "      <td>1.993117</td>\n",
              "      <td>2.055878</td>\n",
              "      <td>-0.543579</td>\n",
              "      <td>0.487691</td>\n",
              "      <td>0.085449</td>\n",
              "      <td>-0.536352</td>\n",
              "      <td>...</td>\n",
              "      <td>-0.312863</td>\n",
              "      <td>-0.687874</td>\n",
              "      <td>-0.267003</td>\n",
              "      <td>-1.158480</td>\n",
              "      <td>0.271460</td>\n",
              "      <td>-0.155397</td>\n",
              "      <td>0.114328</td>\n",
              "      <td>0.101526</td>\n",
              "      <td>1.0</td>\n",
              "      <td>1.0</td>\n",
              "    </tr>\n",
              "    <tr>\n",
              "      <th>248101</th>\n",
              "      <td>79540.0</td>\n",
              "      <td>-0.114361</td>\n",
              "      <td>1.036129</td>\n",
              "      <td>1.984405</td>\n",
              "      <td>3.128243</td>\n",
              "      <td>-0.740344</td>\n",
              "      <td>1.548619</td>\n",
              "      <td>-1.701284</td>\n",
              "      <td>-2.203842</td>\n",
              "      <td>-1.242265</td>\n",
              "      <td>...</td>\n",
              "      <td>-1.032935</td>\n",
              "      <td>1.196428</td>\n",
              "      <td>-0.112857</td>\n",
              "      <td>0.254719</td>\n",
              "      <td>0.696668</td>\n",
              "      <td>0.482370</td>\n",
              "      <td>0.129969</td>\n",
              "      <td>0.223924</td>\n",
              "      <td>0.2</td>\n",
              "      <td>1.0</td>\n",
              "    </tr>\n",
              "  </tbody>\n",
              "</table>\n",
              "<p>5 rows × 31 columns</p>\n",
              "</div>"
            ],
            "text/plain": [
              "           Time        V1        V2        V3        V4        V5        V6  \\\n",
              "246806  77154.0 -0.715414   0.60859  1.155501 -0.267565 -0.563748 -0.618898   \n",
              "246857  77171.0  1.118560  1.291858 -1.298805  2.135772  0.772204 -1.147291   \n",
              "246885  77182.0 -1.410852  2.268271 -2.297554  1.871331  0.248957 -1.208799   \n",
              "246946  77202.0 -0.356326  1.435305 -0.813564  1.993117  2.055878 -0.543579   \n",
              "248101  79540.0 -0.114361  1.036129  1.984405  3.128243 -0.740344  1.548619   \n",
              "\n",
              "              V7        V8        V9  ...       V21       V22       V23  \\\n",
              "246806  0.698308  0.069837 -0.133341  ...  0.130749  0.239389 -0.090227   \n",
              "246857  0.390578 -0.107072 -0.038339  ... -0.346374 -0.663588 -0.102326   \n",
              "246885 -1.358648  1.102916 -1.317364  ...  0.155381 -0.614880 -0.196126   \n",
              "246946  0.487691  0.085449 -0.536352  ... -0.312863 -0.687874 -0.267003   \n",
              "248101 -1.701284 -2.203842 -1.242265  ... -1.032935  1.196428 -0.112857   \n",
              "\n",
              "             V24       V25       V26       V27       V28  Amount  Class  \n",
              "246806  0.411572 -0.216126  0.353896 -0.062361  0.008433   129.0    1.0  \n",
              "246857  0.017911  0.650302 -0.332366  0.105949  0.128124     1.0    1.0  \n",
              "246885 -0.464376  0.118473 -0.484537  0.373596  0.187657     1.0    1.0  \n",
              "246946 -1.158480  0.271460 -0.155397  0.114328  0.101526     1.0    1.0  \n",
              "248101  0.254719  0.696668  0.482370  0.129969  0.223924     0.2    1.0  \n",
              "\n",
              "[5 rows x 31 columns]"
            ]
          },
          "execution_count": 17,
          "metadata": {},
          "output_type": "execute_result"
        }
      ],
      "source": [
        "new_dataset.tail()"
      ]
    },
    {
      "cell_type": "code",
      "execution_count": null,
      "metadata": {
        "colab": {
          "base_uri": "https://localhost:8080/",
          "height": 428
        },
        "id": "8lTweJtQsyUi",
        "outputId": "aa5b2f15-3f80-46e4-e892-006011ec5f23"
      },
      "outputs": [
        {
          "data": {
            "image/png": "[encoded data removed]",
            "text/plain": [
              "<Figure size 432x288 with 1 Axes>"
            ]
          },
          "metadata": {},
          "output_type": "display_data"
        }
      ],
      "source": [
        "import matplotlib.pyplot as plt\n",
        "\n",
        "class_counts = new_dataset['Class'].value_counts()\n",
        "\n",
        "plt.pie(class_counts, labels=['Normal', 'Fraudulent'], autopct='%1.1f%%', startangle=90, colors=['skyblue', 'lightcoral'])\n",
        "\n",
        "plt.title('Distribution of Transaction Classes')\n",
        "\n",
        "plt.axis('equal')\n",
        "\n",
        "plt.show()\n"
      ]
    },
    {
      "cell_type": "code",
      "execution_count": null,
      "metadata": {
        "colab": {
          "base_uri": "https://localhost:8080/",
          "height": 271
        },
        "id": "P8JPjdi1s1WX",
        "outputId": "41d5f6b4-7f14-4695-91b2-fdcdb121fef5"
      },
      "outputs": [
        {
          "data": {
            "text/html": [
              "<div>\n",
              "<style scoped>\n",
              "    .dataframe tbody tr th:only-of-type {\n",
              "        vertical-align: middle;\n",
              "    }\n",
              "\n",
              "    .dataframe tbody tr th {\n",
              "        vertical-align: top;\n",
              "    }\n",
              "\n",
              "    .dataframe thead th {\n",
              "        text-align: right;\n",
              "    }\n",
              "</style>\n",
              "<table border=\"1\" class=\"dataframe\">\n",
              "  <thead>\n",
              "    <tr style=\"text-align: right;\">\n",
              "      <th></th>\n",
              "      <th>Time</th>\n",
              "      <th>V1</th>\n",
              "      <th>V3</th>\n",
              "      <th>V4</th>\n",
              "      <th>V5</th>\n",
              "      <th>V6</th>\n",
              "      <th>V7</th>\n",
              "      <th>V8</th>\n",
              "      <th>V9</th>\n",
              "      <th>V11</th>\n",
              "      <th>...</th>\n",
              "      <th>V18</th>\n",
              "      <th>V19</th>\n",
              "      <th>V20</th>\n",
              "      <th>V22</th>\n",
              "      <th>V24</th>\n",
              "      <th>V25</th>\n",
              "      <th>V26</th>\n",
              "      <th>V27</th>\n",
              "      <th>V28</th>\n",
              "      <th>Amount</th>\n",
              "    </tr>\n",
              "    <tr>\n",
              "      <th>Class</th>\n",
              "      <th></th>\n",
              "      <th></th>\n",
              "      <th></th>\n",
              "      <th></th>\n",
              "      <th></th>\n",
              "      <th></th>\n",
              "      <th></th>\n",
              "      <th></th>\n",
              "      <th></th>\n",
              "      <th></th>\n",
              "      <th></th>\n",
              "      <th></th>\n",
              "      <th></th>\n",
              "      <th></th>\n",
              "      <th></th>\n",
              "      <th></th>\n",
              "      <th></th>\n",
              "      <th></th>\n",
              "      <th></th>\n",
              "      <th></th>\n",
              "      <th></th>\n",
              "    </tr>\n",
              "  </thead>\n",
              "  <tbody>\n",
              "    <tr>\n",
              "      <th>0.0</th>\n",
              "      <td>50798.917921</td>\n",
              "      <td>-0.140044</td>\n",
              "      <td>0.684657</td>\n",
              "      <td>0.172488</td>\n",
              "      <td>-0.273955</td>\n",
              "      <td>0.086337</td>\n",
              "      <td>-0.056840</td>\n",
              "      <td>0.04863</td>\n",
              "      <td>-0.120029</td>\n",
              "      <td>0.155221</td>\n",
              "      <td>...</td>\n",
              "      <td>-0.081860</td>\n",
              "      <td>-0.009225</td>\n",
              "      <td>0.042150</td>\n",
              "      <td>-0.154081</td>\n",
              "      <td>-0.003195</td>\n",
              "      <td>0.131001</td>\n",
              "      <td>0.018546</td>\n",
              "      <td>0.025300</td>\n",
              "      <td>0.002648</td>\n",
              "      <td>96.487756</td>\n",
              "    </tr>\n",
              "    <tr>\n",
              "      <th>1.0</th>\n",
              "      <td>43650.558468</td>\n",
              "      <td>-5.881845</td>\n",
              "      <td>-7.342413</td>\n",
              "      <td>4.530734</td>\n",
              "      <td>-4.181031</td>\n",
              "      <td>-1.470770</td>\n",
              "      <td>-6.170732</td>\n",
              "      <td>1.56236</td>\n",
              "      <td>-2.670419</td>\n",
              "      <td>4.074968</td>\n",
              "      <td>...</td>\n",
              "      <td>-2.801359</td>\n",
              "      <td>0.783811</td>\n",
              "      <td>0.241645</td>\n",
              "      <td>-0.321771</td>\n",
              "      <td>-0.103052</td>\n",
              "      <td>0.209617</td>\n",
              "      <td>0.048808</td>\n",
              "      <td>0.500779</td>\n",
              "      <td>0.073258</td>\n",
              "      <td>117.101593</td>\n",
              "    </tr>\n",
              "  </tbody>\n",
              "</table>\n",
              "<p>2 rows × 24 columns</p>\n",
              "</div>"
            ],
            "text/plain": [
              "               Time        V1        V3        V4        V5        V6  \\\n",
              "Class                                                                   \n",
              "0.0    50798.917921 -0.140044  0.684657  0.172488 -0.273955  0.086337   \n",
              "1.0    43650.558468 -5.881845 -7.342413  4.530734 -4.181031 -1.470770   \n",
              "\n",
              "             V7       V8        V9       V11  ...       V18       V19  \\\n",
              "Class                                         ...                       \n",
              "0.0   -0.056840  0.04863 -0.120029  0.155221  ... -0.081860 -0.009225   \n",
              "1.0   -6.170732  1.56236 -2.670419  4.074968  ... -2.801359  0.783811   \n",
              "\n",
              "            V20       V22       V24       V25       V26       V27       V28  \\\n",
              "Class                                                                         \n",
              "0.0    0.042150 -0.154081 -0.003195  0.131001  0.018546  0.025300  0.002648   \n",
              "1.0    0.241645 -0.321771 -0.103052  0.209617  0.048808  0.500779  0.073258   \n",
              "\n",
              "           Amount  \n",
              "Class              \n",
              "0.0     96.487756  \n",
              "1.0    117.101593  \n",
              "\n",
              "[2 rows x 24 columns]"
            ]
          },
          "execution_count": 19,
          "metadata": {},
          "output_type": "execute_result"
        }
      ],
      "source": [
        "new_dataset.groupby('Class').mean()"
      ]
    },
    {
      "cell_type": "markdown",
      "metadata": {
        "id": "nZd8J0pZtta1"
      },
      "source": [
        "# 6. Splitting the data into Features & Targets\n"
      ]
    },
    {
      "cell_type": "code",
      "execution_count": null,
      "metadata": {
        "id": "Q4KpLCcltDAK"
      },
      "outputs": [],
      "source": [
        "X = new_dataset.drop(columns='Class', axis=1)\n",
        "Y = new_dataset['Class']"
      ]
    },
    {
      "cell_type": "code",
      "execution_count": null,
      "metadata": {
        "colab": {
          "base_uri": "https://localhost:8080/"
        },
        "id": "qjkxlXijuBEe",
        "outputId": "1323b009-6e00-4803-c7ff-63057565b8a6"
      },
      "outputs": [
        {
          "name": "stdout",
          "output_type": "stream",
          "text": [
            "           Time        V1        V2        V3        V4        V5        V6  \\\n",
            "99449   44264.0 -0.252773  0.486363  1.309434 -1.053774 -0.436655 -0.117178   \n",
            "143398  54560.0 -0.527136  0.948084 -0.695599 -1.126850  2.330580  3.222901   \n",
            "194176  69345.0  1.174801  0.007121  0.101070  1.131680  0.075225  0.491208   \n",
            "55411   38177.0  0.735718 -0.628512  0.550752  1.336038 -0.963262 -0.587294   \n",
            "53337   34598.0 -2.820219  2.458132  0.614851 -1.482664 -0.431115  1.078077   \n",
            "...         ...       ...       ...       ...       ...       ...       ...   \n",
            "246806  77154.0 -0.715414   0.60859  1.155501 -0.267565 -0.563748 -0.618898   \n",
            "246857  77171.0  1.118560  1.291858 -1.298805  2.135772  0.772204 -1.147291   \n",
            "246885  77182.0 -1.410852  2.268271 -2.297554  1.871331  0.248957 -1.208799   \n",
            "246946  77202.0 -0.356326  1.435305 -0.813564  1.993117  2.055878 -0.543579   \n",
            "248101  79540.0 -0.114361  1.036129  1.984405  3.128243 -0.740344  1.548619   \n",
            "\n",
            "              V7        V8        V9  ...       V20       V21       V22  \\\n",
            "99449  -0.649498 -1.404399  0.066832  ... -0.505577  1.478127 -0.795314   \n",
            "143398 -0.107501  1.237228 -0.842058  ... -0.058258   0.11267  0.064719   \n",
            "194176 -0.185995  0.287774  0.374281  ... -0.288138 -0.119659 -0.228921   \n",
            "55411   0.050514 -0.109504  0.379946  ...  0.333600  0.273236  0.261723   \n",
            "53337  -1.607519 -6.991697  0.289095  ... -1.741017  6.797101 -2.538247   \n",
            "...          ...       ...       ...  ...       ...       ...       ...   \n",
            "246806  0.698308  0.069837 -0.133341  ... -0.186978  0.130749  0.239389   \n",
            "246857  0.390578 -0.107072 -0.038339  ... -0.023576 -0.346374 -0.663588   \n",
            "246885 -1.358648  1.102916 -1.317364  ...  0.058063  0.155381 -0.614880   \n",
            "246946  0.487691  0.085449 -0.536352  ...  0.303262 -0.312863 -0.687874   \n",
            "248101 -1.701284 -2.203842 -1.242265  ...  0.732852 -1.032935  1.196428   \n",
            "\n",
            "             V23       V24       V25       V26       V27       V28  Amount  \n",
            "99449  -0.060646  0.234810  0.460343  0.845045  0.094885  0.188411    3.84  \n",
            "143398 -0.133956  1.037885 -0.189111  0.301833 -0.017194  0.081879    1.50  \n",
            "194176 -0.133357 -0.701332  0.660040 -0.280724  0.022974 -0.005840    5.34  \n",
            "55411   -0.29042  0.398492  0.424651 -0.320804 -0.005972  0.072641  249.27  \n",
            "53337   0.897894  0.001910 -0.450488  0.732639  0.400041  0.160542   55.93  \n",
            "...          ...       ...       ...       ...       ...       ...     ...  \n",
            "246806 -0.090227  0.411572 -0.216126  0.353896 -0.062361  0.008433  129.00  \n",
            "246857 -0.102326  0.017911  0.650302 -0.332366  0.105949  0.128124    1.00  \n",
            "246885 -0.196126 -0.464376  0.118473 -0.484537  0.373596  0.187657    1.00  \n",
            "246946 -0.267003 -1.158480  0.271460 -0.155397  0.114328  0.101526    1.00  \n",
            "248101 -0.112857  0.254719  0.696668  0.482370  0.129969  0.223924    0.20  \n",
            "\n",
            "[1227 rows x 30 columns]\n"
          ]
        }
      ],
      "source": [
        "print(X)"
      ]
    },
    {
      "cell_type": "code",
      "execution_count": null,
      "metadata": {
        "colab": {
          "base_uri": "https://localhost:8080/"
        },
        "id": "VXdH7FKKuC01",
        "outputId": "e41fe1ba-0078-4d08-9ec5-343acb00b2c5"
      },
      "outputs": [
        {
          "name": "stdout",
          "output_type": "stream",
          "text": [
            "99449     0.0\n",
            "143398    0.0\n",
            "194176    0.0\n",
            "55411     0.0\n",
            "53337     0.0\n",
            "         ... \n",
            "246806    1.0\n",
            "246857    1.0\n",
            "246885    1.0\n",
            "246946    1.0\n",
            "248101    1.0\n",
            "Name: Class, Length: 1227, dtype: float64\n"
          ]
        }
      ],
      "source": [
        "print(Y)"
      ]
    },
    {
      "cell_type": "code",
      "execution_count": null,
      "metadata": {
        "id": "Jvwh7_WduFds"
      },
      "outputs": [],
      "source": [
        "# Split the data into Training data & Testing Data\n",
        "X_train, X_test, Y_train, Y_test = train_test_split(X, Y, test_size=0.2, stratify=Y, random_state=2)\n"
      ]
    },
    {
      "cell_type": "code",
      "execution_count": null,
      "metadata": {
        "colab": {
          "base_uri": "https://localhost:8080/"
        },
        "id": "ainamlbLuRJ4",
        "outputId": "e98f5355-5f66-4c36-c2f8-925839fe0b3f"
      },
      "outputs": [
        {
          "name": "stdout",
          "output_type": "stream",
          "text": [
            "(1227, 30) (981, 30) (246, 30)\n"
          ]
        }
      ],
      "source": [
        "print(X.shape, X_train.shape, X_test.shape)"
      ]
    },
    {
      "cell_type": "markdown",
      "metadata": {
        "id": "TV25PeWEuapE"
      },
      "source": [
        "# 7. Model training"
      ]
    },
    {
      "cell_type": "code",
      "execution_count": null,
      "metadata": {
        "id": "slylbXvauWGM"
      },
      "outputs": [],
      "source": [
        "# Logistic Regression\n",
        "model = LogisticRegression(max_iter=10000)"
      ]
    },
    {
      "cell_type": "code",
      "execution_count": null,
      "metadata": {
        "colab": {
          "base_uri": "https://localhost:8080/",
          "height": 74
        },
        "id": "tTl_zbo2ukRa",
        "outputId": "a5543a41-5c91-4c0c-ad37-3b3027cd7fd2"
      },
      "outputs": [
        {
          "data": {
            "text/plain": [
              "LogisticRegression(max_iter=10000)"
            ]
          },
          "execution_count": 26,
          "metadata": {},
          "output_type": "execute_result"
        }
      ],
      "source": [
        "# training the Logistic Regression Model with Training Data\n",
        "model.fit(X_train, Y_train)"
      ]
    },
    {
      "cell_type": "markdown",
      "metadata": {
        "id": "EArkcPv2v45h"
      },
      "source": [
        "# 8. Model Evaluation"
      ]
    },
    {
      "cell_type": "code",
      "execution_count": null,
      "metadata": {
        "colab": {
          "base_uri": "https://localhost:8080/",
          "height": 435
        },
        "id": "xiM1ABGAuurj",
        "outputId": "08102f01-e258-480d-f6dd-eb00bbd69ec3"
      },
      "outputs": [
        {
          "data": {
            "image/png": "[encoded data removed]",
            "text/plain": [
              "<Figure size 432x288 with 1 Axes>"
            ]
          },
          "metadata": {},
          "output_type": "display_data"
        }
      ],
      "source": [
        "import matplotlib.pyplot as plt\n",
        "\n",
        "counts = credit_card_data['Class'].value_counts()\n",
        "\n",
        "plt.pie(counts, labels=['Normal', 'Fraudulent'], autopct='%1.1f%%', startangle=90)\n",
        "plt.title('Distribution of Normal and Fraudulent Transactions')\n",
        "plt.axis('equal')\n",
        "plt.show()"
      ]
    },
    {
      "cell_type": "code",
      "execution_count": null,
      "metadata": {
        "colab": {
          "base_uri": "https://localhost:8080/"
        },
        "id": "aDZw5cjMv9CT",
        "outputId": "ab5bbd30-c17c-4634-f1f8-d4c87df76605"
      },
      "outputs": [
        {
          "name": "stdout",
          "output_type": "stream",
          "text": [
            "Training Data Accuracy: 0.9469928644240571\n"
          ]
        }
      ],
      "source": [
        "from sklearn.metrics import accuracy_score\n",
        "\n",
        "# Predict class labels for the training data\n",
        "predicted_labels = model.predict(X_train)\n",
        "\n",
        "# Calculate the training data accuracy score\n",
        "training_data_accuracy = accuracy_score(predicted_labels, Y_train)\n",
        "\n",
        "# Print the training data accuracy score\n",
        "print(\"Training Data Accuracy:\", training_data_accuracy)\n"
      ]
    },
    {
      "cell_type": "code",
      "execution_count": null,
      "metadata": {
        "id": "Wvj4hwAYwAGo"
      },
      "outputs": [],
      "source": [
        "# accuracy on test data\n",
        "X_test_prediction = model.predict(X_test)\n",
        "\n",
        "test_data_accuracy = accuracy_score(X_test_prediction, Y_test)"
      ]
    },
    {
      "cell_type": "code",
      "execution_count": null,
      "metadata": {
        "colab": {
          "base_uri": "https://localhost:8080/"
        },
        "id": "NEP-zIMLwDBI",
        "outputId": "103e77fd-1228-42af-dce0-f781d5b96ad1"
      },
      "outputs": [
        {
          "name": "stdout",
          "output_type": "stream",
          "text": [
            "Accuracy score on Test Data :  0.9471544715447154\n"
          ]
        }
      ],
      "source": [
        "print('Accuracy score on Test Data : ', test_data_accuracy)"
      ]
    },
    {
      "cell_type": "code",
      "execution_count": null,
      "metadata": {
        "id": "4g4uqLHgwEyC"
      },
      "outputs": [],
      "source": [
        "# A high accuracy score on both the training and testing datasets indicates\n",
        "# that the model is performing well and can be useful for credit card fraud detection"
      ]
    },
    {
      "cell_type": "markdown",
      "metadata": {
        "id": "DrYBD_9XuA8f"
      },
      "source": [
        "# Random Forest"
      ]
    },
    {
      "cell_type": "code",
      "execution_count": null,
      "metadata": {
        "colab": {
          "base_uri": "https://localhost:8080/",
          "height": 824
        },
        "id": "6sAoK4b7Lljr",
        "outputId": "28036d29-85f1-4acf-9203-ed7cf5e648ac"
      },
      "outputs": [
        {
          "name": "stdout",
          "output_type": "stream",
          "text": [
            "Model training starts........\n",
            "Accuracy of model on test dataset: 0.9796747967479674\n",
            "Confusion Matrix :- \n",
            " [[146   1]\n",
            " [  4  95]]\n",
            "Classification Report :- \n",
            "               precision    recall  f1-score   support\n",
            "\n",
            "         0.0       0.97      0.99      0.98       147\n",
            "         1.0       0.99      0.96      0.97        99\n",
            "\n",
            "    accuracy                           0.98       246\n",
            "   macro avg       0.98      0.98      0.98       246\n",
            "weighted avg       0.98      0.98      0.98       246\n",
            "\n"
          ]
        },
        {
          "data": {
            "image/png": "[encoded data removed]",
            "text/plain": [
              "<Figure size 576x432 with 2 Axes>"
            ]
          },
          "metadata": {
            "needs_background": "light"
          },
          "output_type": "display_data"
        }
      ],
      "source": [
        "from sklearn.ensemble import RandomForestClassifier\n",
        "from sklearn.metrics import confusion_matrix\n",
        "from sklearn.metrics import classification_report\n",
        "import matplotlib.pyplot as plt\n",
        "import seaborn as sns\n",
        "\n",
        "def random_forest_classifier(X_train, X_test, Y_train, Y_test):\n",
        "    # initialize object for RandomForestClassifier class\n",
        "    rf_classifier = RandomForestClassifier(n_estimators=50)\n",
        "    # train model using fit method\n",
        "    print(\"Model training starts........\")\n",
        "    rf_classifier.fit(X_train, Y_train.values.ravel())\n",
        "    acc_score = rf_classifier.score(X_test, Y_test)\n",
        "    print(f'Accuracy of model on test dataset: {acc_score}')\n",
        "    # predict result using test dataset\n",
        "    y_pred = rf_classifier.predict(X_test)\n",
        "    # confusion matrix\n",
        "    cm = confusion_matrix(Y_test, y_pred)\n",
        "    print(f\"Confusion Matrix :- \\n {cm}\")\n",
        "    # classification report for f1-score\n",
        "    print(f\"Classification Report :- \\n {classification_report(Y_test, y_pred)}\")\n",
        "\n",
        "    # Visualize confusion matrix\n",
        "    plt.figure(figsize=(8, 6))\n",
        "    sns.heatmap(cm, annot=True, cmap='Blues', fmt='d')\n",
        "    plt.title(\"Confusion Matrix\")\n",
        "    plt.xlabel(\"Predicted labels\")\n",
        "    plt.ylabel(\"True labels\")\n",
        "    plt.show()\n",
        "\n",
        "\n",
        "# calling random_forest_classifier\n",
        "random_forest_classifier(X_train, X_test, Y_train, Y_test)\n",
        "\n"
      ]
    },
    {
      "cell_type": "markdown",
      "metadata": {
        "id": "Lo4ukqo2MDNs"
      },
      "source": [
        "# **Decision Tree Algorithm**"
      ]
    },
    {
      "cell_type": "code",
      "execution_count": null,
      "metadata": {
        "colab": {
          "base_uri": "https://localhost:8080/"
        },
        "id": "RQhXIUYFO6cx",
        "outputId": "7ba83c20-596c-4072-d382-2ee49fb35ad1"
      },
      "outputs": [
        {
          "name": "stdout",
          "output_type": "stream",
          "text": [
            "Number of samples for each class:\n",
            "0.0    249057\n",
            "1.0       496\n",
            "Name: Class, dtype: int64\n",
            "Non-fraudulent Numbers: 249057\n",
            "Fraudulent Numbers: 496\n"
          ]
        }
      ],
      "source": [
        "class_counts = credit_card_data['Class'].value_counts()\n",
        "print(\"Number of samples for each class:\")\n",
        "print(class_counts)\n",
        "non_fraud = class_counts[0]\n",
        "fraud = class_counts[1]\n",
        "print(\"Non-fraudulent Numbers:\", non_fraud)\n",
        "print(\"Fraudulent Numbers:\", fraud)"
      ]
    },
    {
      "cell_type": "code",
      "execution_count": null,
      "metadata": {
        "id": "0AeVDQT6PCbP"
      },
      "outputs": [],
      "source": [
        "import numpy as np\n",
        "## Equalize the number of samples for both target classes\n",
        "# Get indexes of non-fraudulent samples\n",
        "nonfraud_indices = credit_card_data[credit_card_data.Class == 0].index\n",
        "fraud_indices = np.array(credit_card_data[credit_card_data.Class == 1].index)\n",
        "# Randomly select non-fraudulent samples that are equal to the number of fraudulent samples\n",
        "random_normal_indices = np.random.choice(nonfraud_indices, size=len(fraud_indices), replace=False)\n",
        "random_normal_indices = np.array(random_normal_indices)"
      ]
    },
    {
      "cell_type": "code",
      "execution_count": null,
      "metadata": {
        "id": "rp_-H-Y7Pr38"
      },
      "outputs": [],
      "source": [
        "## Undersampling techniques\n",
        "\n",
        "# Concatenate the indices of fraud and non-fraud transactions\n",
        "under_sample_indices = np.concatenate([fraud_indices, random_normal_indices])\n",
        "\n",
        "# Extract all features for the under-sampled indices\n",
        "under_sample_data = credit_card_data.iloc[under_sample_indices, :]\n",
        "\n",
        "# Split the under-sampled data into features (X) and target (y)\n",
        "X_undersample_data = under_sample_data.drop(['Class'], axis=1)\n",
        "y_undersample_data = under_sample_data['Class']\n",
        "\n",
        "# Split the dataset into train and test datasets\n",
        "X_train_sample, X_test_sample, y_train_sample, y_test_sample = train_test_split(\n",
        "    X_undersample_data, y_undersample_data, test_size=0.2, random_state=0)"
      ]
    },
    {
      "cell_type": "code",
      "execution_count": null,
      "metadata": {
        "colab": {
          "base_uri": "https://localhost:8080/",
          "height": 842
        },
        "id": "L9zPnRBmMIiu",
        "outputId": "a482b24a-2ff2-4784-c4f0-e83e6a52feaf"
      },
      "outputs": [
        {
          "name": "stdout",
          "output_type": "stream",
          "text": [
            "Model training starts........\n",
            "Model training completed\n",
            "Accuracy of model on test dataset: 0.9798994974874372\n",
            "Confusion Matrix:\n",
            "[[96  2]\n",
            " [ 2 99]]\n",
            "Classification Report:\n",
            "              precision    recall  f1-score   support\n",
            "\n",
            "         0.0       0.98      0.98      0.98        98\n",
            "         1.0       0.98      0.98      0.98       101\n",
            "\n",
            "    accuracy                           0.98       199\n",
            "   macro avg       0.98      0.98      0.98       199\n",
            "weighted avg       0.98      0.98      0.98       199\n",
            "\n",
            "AROC score: 0.979894928268337\n"
          ]
        },
        {
          "data": {
            "image/png": "[encoded data removed]",
            "text/plain": [
              "<Figure size 576x432 with 2 Axes>"
            ]
          },
          "metadata": {
            "needs_background": "light"
          },
          "output_type": "display_data"
        }
      ],
      "source": [
        "from sklearn.tree import DecisionTreeClassifier\n",
        "from sklearn.metrics import confusion_matrix\n",
        "from sklearn.metrics import classification_report\n",
        "from sklearn.metrics import roc_auc_score\n",
        "import matplotlib.pyplot as plt\n",
        "import seaborn as sns\n",
        "\n",
        "def decision_tree_classification(X_train, X_test, Y_train, Y_test):\n",
        "    # Initialize object for DecisionTreeClassifier class\n",
        "    dt_classifier = DecisionTreeClassifier(criterion='gini')\n",
        "    # Train model using fit method\n",
        "    print(\"Model training starts........\")\n",
        "    dt_classifier.fit(X_train, Y_train.values.ravel())\n",
        "    print(\"Model training completed\")\n",
        "    acc_score = dt_classifier.score(X_test, Y_test)\n",
        "    print(f'Accuracy of model on test dataset: {acc_score}')\n",
        "    # Predict result using test dataset\n",
        "    y_pred = dt_classifier.predict(X_test)\n",
        "    # Confusion matrix\n",
        "    cm = confusion_matrix(Y_test, y_pred)\n",
        "    print(f\"Confusion Matrix:\\n{cm}\")\n",
        "    # Classification report for f1-score\n",
        "    print(f\"Classification Report:\\n{classification_report(Y_test, y_pred)}\")\n",
        "    # AROC score\n",
        "    aroc_score = roc_auc_score(Y_test, y_pred)\n",
        "    print(f\"AROC score: {aroc_score}\")\n",
        "\n",
        "    # Visualize Confusion Matrix\n",
        "    plt.figure(figsize=(8, 6))\n",
        "    sns.heatmap(cm, annot=True, cmap='Blues', fmt='d')\n",
        "    plt.title(\"Confusion Matrix\")\n",
        "    plt.xlabel(\"Predicted labels\")\n",
        "    plt.ylabel(\"True labels\")\n",
        "    plt.show()\n",
        "\n",
        "\n",
        "# Calling decision_tree_classification function\n",
        "decision_tree_classification(X_train_sample, X_test_sample, y_train_sample, y_test_sample)"
      ]
    }
  ],
  "metadata": {
    "colab": {
      "provenance": []
    },
    "kernelspec": {
      "display_name": "Python 3 (ipykernel)",
      "language": "python",
      "name": "python3"
    },
    "language_info": {
      "codemirror_mode": {
        "name": "ipython",
        "version": 3
      },
      "file_extension": ".py",
      "mimetype": "text/x-python",
      "name": "python",
      "nbconvert_exporter": "python",
      "pygments_lexer": "ipython3",
      "version": "3.9.12"
    }
  },
  "nbformat": 4,
  "nbformat_minor": 0
}